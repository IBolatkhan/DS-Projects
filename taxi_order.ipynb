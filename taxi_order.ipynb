{
 "cells": [
  {
   "cell_type": "markdown",
   "metadata": {},
   "source": [
    "#  Прогнозирование заказов такси"
   ]
  },
  {
   "cell_type": "markdown",
   "metadata": {},
   "source": [
    "Компания «Чётенькое такси» собрала исторические данные о заказах такси в аэропортах. Чтобы привлекать больше водителей в период пиковой нагрузки, нужно спрогнозировать количество заказов такси на следующий час. Постройте модель для такого предсказания.\n",
    "\n",
    "Значение метрики *RMSE* на тестовой выборке должно быть не больше 48.\n",
    "\n",
    "Вам нужно:\n",
    "\n",
    "1. Загрузить данные и выполнить их ресемплирование по одному часу.\n",
    "2. Проанализировать данные.\n",
    "3. Обучить разные модели с различными гиперпараметрами. Сделать тестовую выборку размером 10% от исходных данных.\n",
    "4. Проверить данные на тестовой выборке и сделать выводы.\n",
    "\n",
    "\n",
    "Данные лежат в файле `taxi.csv`. Количество заказов находится в столбце `num_orders` (от англ. *number of orders*, «число заказов»)."
   ]
  },
  {
   "cell_type": "markdown",
   "metadata": {},
   "source": [
    "## Подготовка"
   ]
  },
  {
   "cell_type": "markdown",
   "metadata": {},
   "source": [
    "Импорт библиотек"
   ]
  },
  {
   "cell_type": "code",
   "execution_count": 1,
   "metadata": {},
   "outputs": [],
   "source": [
    "import pandas as pd\n",
    "import numpy as np\n",
    "import matplotlib.pyplot as plt\n",
    "from statsmodels.tsa.seasonal import seasonal_decompose\n",
    "from statsmodels.tsa.stattools import adfuller\n",
    "from sklearn.model_selection import train_test_split\n",
    "from sklearn.metrics import mean_squared_error\n",
    "from sklearn.linear_model import LinearRegression\n",
    "from sklearn.ensemble import RandomForestRegressor\n",
    "from lightgbm import LGBMRegressor"
   ]
  },
  {
   "cell_type": "markdown",
   "metadata": {},
   "source": [
    "Выводим первые 5 строк"
   ]
  },
  {
   "cell_type": "code",
   "execution_count": 2,
   "metadata": {},
   "outputs": [
    {
     "data": {
      "text/html": [
       "<div>\n",
       "<style scoped>\n",
       "    .dataframe tbody tr th:only-of-type {\n",
       "        vertical-align: middle;\n",
       "    }\n",
       "\n",
       "    .dataframe tbody tr th {\n",
       "        vertical-align: top;\n",
       "    }\n",
       "\n",
       "    .dataframe thead th {\n",
       "        text-align: right;\n",
       "    }\n",
       "</style>\n",
       "<table border=\"1\" class=\"dataframe\">\n",
       "  <thead>\n",
       "    <tr style=\"text-align: right;\">\n",
       "      <th></th>\n",
       "      <th>num_orders</th>\n",
       "    </tr>\n",
       "    <tr>\n",
       "      <th>datetime</th>\n",
       "      <th></th>\n",
       "    </tr>\n",
       "  </thead>\n",
       "  <tbody>\n",
       "    <tr>\n",
       "      <td>2018-03-01 00:00:00</td>\n",
       "      <td>9</td>\n",
       "    </tr>\n",
       "    <tr>\n",
       "      <td>2018-03-01 00:10:00</td>\n",
       "      <td>14</td>\n",
       "    </tr>\n",
       "    <tr>\n",
       "      <td>2018-03-01 00:20:00</td>\n",
       "      <td>28</td>\n",
       "    </tr>\n",
       "    <tr>\n",
       "      <td>2018-03-01 00:30:00</td>\n",
       "      <td>20</td>\n",
       "    </tr>\n",
       "    <tr>\n",
       "      <td>2018-03-01 00:40:00</td>\n",
       "      <td>32</td>\n",
       "    </tr>\n",
       "  </tbody>\n",
       "</table>\n",
       "</div>"
      ],
      "text/plain": [
       "                     num_orders\n",
       "datetime                       \n",
       "2018-03-01 00:00:00           9\n",
       "2018-03-01 00:10:00          14\n",
       "2018-03-01 00:20:00          28\n",
       "2018-03-01 00:30:00          20\n",
       "2018-03-01 00:40:00          32"
      ]
     },
     "execution_count": 2,
     "metadata": {},
     "output_type": "execute_result"
    }
   ],
   "source": [
    "df = pd.read_csv('/datasets/taxi.csv',index_col=[0],parse_dates=[0])\n",
    "df.head()"
   ]
  },
  {
   "cell_type": "markdown",
   "metadata": {},
   "source": [
    "Выведим общую информацию"
   ]
  },
  {
   "cell_type": "code",
   "execution_count": 3,
   "metadata": {},
   "outputs": [
    {
     "name": "stdout",
     "output_type": "stream",
     "text": [
      "<class 'pandas.core.frame.DataFrame'>\n",
      "DatetimeIndex: 26496 entries, 2018-03-01 00:00:00 to 2018-08-31 23:50:00\n",
      "Data columns (total 1 columns):\n",
      "num_orders    26496 non-null int64\n",
      "dtypes: int64(1)\n",
      "memory usage: 414.0 KB\n"
     ]
    }
   ],
   "source": [
    "df.info()"
   ]
  },
  {
   "cell_type": "markdown",
   "metadata": {},
   "source": [
    "## Анализ"
   ]
  },
  {
   "cell_type": "markdown",
   "metadata": {},
   "source": [
    "Данные с марта 2018 года по август 2018"
   ]
  },
  {
   "cell_type": "code",
   "execution_count": 4,
   "metadata": {},
   "outputs": [
    {
     "data": {
      "text/plain": [
       "True"
      ]
     },
     "execution_count": 4,
     "metadata": {},
     "output_type": "execute_result"
    }
   ],
   "source": [
    "df.sort_index(inplace=True)\n",
    "df.index.is_monotonic"
   ]
  },
  {
   "cell_type": "markdown",
   "metadata": {},
   "source": [
    "Временной ряд отсортирован в хронологическом порядке"
   ]
  },
  {
   "cell_type": "code",
   "execution_count": 5,
   "metadata": {},
   "outputs": [
    {
     "data": {
      "image/png": "[encoded data removed]",
      "text/plain": [
       "<Figure size 432x288 with 1 Axes>"
      ]
     },
     "metadata": {
      "needs_background": "light"
     },
     "output_type": "display_data"
    }
   ],
   "source": [
    "df.plot(title='Количество заказов такси с интервалом в 10 минут');"
   ]
  },
  {
   "cell_type": "markdown",
   "metadata": {},
   "source": [
    "Сделаем ресемплирование изменим текущий интервал с 10 минут на один час"
   ]
  },
  {
   "cell_type": "code",
   "execution_count": 6,
   "metadata": {},
   "outputs": [
    {
     "data": {
      "image/png": "[encoded data removed]",
      "text/plain": [
       "<Figure size 432x288 with 1 Axes>"
      ]
     },
     "metadata": {
      "needs_background": "light"
     },
     "output_type": "display_data"
    }
   ],
   "source": [
    "df_resample = df.resample('1H').sum()\n",
    "df_resample.plot(title='Количество заказов такси с интервалом в 1 час');"
   ]
  },
  {
   "cell_type": "markdown",
   "metadata": {},
   "source": [
    "Проверим на стационарность наш временной ряд"
   ]
  },
  {
   "cell_type": "code",
   "execution_count": 7,
   "metadata": {},
   "outputs": [
    {
     "name": "stdout",
     "output_type": "stream",
     "text": [
      "Ряд стационарен\n"
     ]
    }
   ],
   "source": [
    "p = adfuller(df_resample['num_orders'],autolag='AIC')[1]\n",
    "if p < 0.05:\n",
    "    print('Ряд стационарен')\n",
    "else:\n",
    "    print('Ряд не стационарен')"
   ]
  },
  {
   "cell_type": "markdown",
   "metadata": {},
   "source": [
    "Разложим временной ряд на тренд и сезонность"
   ]
  },
  {
   "cell_type": "code",
   "execution_count": 8,
   "metadata": {},
   "outputs": [
    {
     "data": {
      "image/png": "[encoded data removed]",
      "text/plain": [
       "<Figure size 432x576 with 3 Axes>"
      ]
     },
     "metadata": {
      "needs_background": "light"
     },
     "output_type": "display_data"
    }
   ],
   "source": [
    "decomposed = seasonal_decompose(df_resample['num_orders'])\n",
    "\n",
    "plt.figure(figsize=(6, 8))\n",
    "plt.subplot(311)\n",
    "\n",
    "decomposed.trend.plot(ax=plt.gca())\n",
    "plt.title('Trend')\n",
    "plt.subplot(312)\n",
    "\n",
    "decomposed.seasonal.plot(ax=plt.gca())\n",
    "plt.title('Seasonality')\n",
    "plt.subplot(313)\n",
    "\n",
    "decomposed.resid.plot(ax=plt.gca())\n",
    "plt.title('Residuals')\n",
    "plt.tight_layout()"
   ]
  },
  {
   "cell_type": "markdown",
   "metadata": {},
   "source": [
    "Видим увеличивающийся тренд в летний сезон пора отпусков люди чаще улетают в другие страны, а число заказов такси растет."
   ]
  },
  {
   "cell_type": "markdown",
   "metadata": {},
   "source": [
    "Напишем функцию make_features которая вернет нам год, месяц, день,день недели и является этот день выходным днем"
   ]
  },
  {
   "cell_type": "code",
   "execution_count": 9,
   "metadata": {},
   "outputs": [],
   "source": [
    "def make_features(df, max_lag, rolling_mean_size):\n",
    "    df['year'] = df.index.year\n",
    "    df['month'] = df.index.month\n",
    "    df['day'] = df.index.day\n",
    "    df['dayofweek'] = df.index.dayofweek\n",
    "    df['is_weekend'] = df.dayofweek.isin([5,6])*1\n",
    "    for lag in range(1, max_lag + 1):\n",
    "        df['lag_{}'.format(lag)] = df['num_orders'].shift(lag)\n",
    "\n",
    "    df['rolling_mean'] = df['num_orders'].shift().rolling(rolling_mean_size).mean().round()"
   ]
  },
  {
   "cell_type": "markdown",
   "metadata": {},
   "source": [
    "Передадим в функцию значение max_lag,и скользящего среднего"
   ]
  },
  {
   "cell_type": "code",
   "execution_count": 10,
   "metadata": {},
   "outputs": [],
   "source": [
    "make_features(df_resample,24, 7)"
   ]
  },
  {
   "cell_type": "code",
   "execution_count": 11,
   "metadata": {},
   "outputs": [
    {
     "data": {
      "text/html": [
       "<div>\n",
       "<style scoped>\n",
       "    .dataframe tbody tr th:only-of-type {\n",
       "        vertical-align: middle;\n",
       "    }\n",
       "\n",
       "    .dataframe tbody tr th {\n",
       "        vertical-align: top;\n",
       "    }\n",
       "\n",
       "    .dataframe thead th {\n",
       "        text-align: right;\n",
       "    }\n",
       "</style>\n",
       "<table border=\"1\" class=\"dataframe\">\n",
       "  <thead>\n",
       "    <tr style=\"text-align: right;\">\n",
       "      <th></th>\n",
       "      <th>num_orders</th>\n",
       "      <th>year</th>\n",
       "      <th>month</th>\n",
       "      <th>day</th>\n",
       "      <th>dayofweek</th>\n",
       "      <th>is_weekend</th>\n",
       "      <th>lag_1</th>\n",
       "      <th>lag_2</th>\n",
       "      <th>lag_3</th>\n",
       "      <th>lag_4</th>\n",
       "      <th>...</th>\n",
       "      <th>lag_16</th>\n",
       "      <th>lag_17</th>\n",
       "      <th>lag_18</th>\n",
       "      <th>lag_19</th>\n",
       "      <th>lag_20</th>\n",
       "      <th>lag_21</th>\n",
       "      <th>lag_22</th>\n",
       "      <th>lag_23</th>\n",
       "      <th>lag_24</th>\n",
       "      <th>rolling_mean</th>\n",
       "    </tr>\n",
       "    <tr>\n",
       "      <th>datetime</th>\n",
       "      <th></th>\n",
       "      <th></th>\n",
       "      <th></th>\n",
       "      <th></th>\n",
       "      <th></th>\n",
       "      <th></th>\n",
       "      <th></th>\n",
       "      <th></th>\n",
       "      <th></th>\n",
       "      <th></th>\n",
       "      <th></th>\n",
       "      <th></th>\n",
       "      <th></th>\n",
       "      <th></th>\n",
       "      <th></th>\n",
       "      <th></th>\n",
       "      <th></th>\n",
       "      <th></th>\n",
       "      <th></th>\n",
       "      <th></th>\n",
       "      <th></th>\n",
       "    </tr>\n",
       "  </thead>\n",
       "  <tbody>\n",
       "    <tr>\n",
       "      <td>2018-08-31 19:00:00</td>\n",
       "      <td>136</td>\n",
       "      <td>2018</td>\n",
       "      <td>8</td>\n",
       "      <td>31</td>\n",
       "      <td>4</td>\n",
       "      <td>0</td>\n",
       "      <td>207.0</td>\n",
       "      <td>217.0</td>\n",
       "      <td>197.0</td>\n",
       "      <td>116.0</td>\n",
       "      <td>...</td>\n",
       "      <td>99.0</td>\n",
       "      <td>230.0</td>\n",
       "      <td>194.0</td>\n",
       "      <td>276.0</td>\n",
       "      <td>246.0</td>\n",
       "      <td>158.0</td>\n",
       "      <td>198.0</td>\n",
       "      <td>142.0</td>\n",
       "      <td>72.0</td>\n",
       "      <td>167.0</td>\n",
       "    </tr>\n",
       "    <tr>\n",
       "      <td>2018-08-31 20:00:00</td>\n",
       "      <td>154</td>\n",
       "      <td>2018</td>\n",
       "      <td>8</td>\n",
       "      <td>31</td>\n",
       "      <td>4</td>\n",
       "      <td>0</td>\n",
       "      <td>136.0</td>\n",
       "      <td>207.0</td>\n",
       "      <td>217.0</td>\n",
       "      <td>197.0</td>\n",
       "      <td>...</td>\n",
       "      <td>268.0</td>\n",
       "      <td>99.0</td>\n",
       "      <td>230.0</td>\n",
       "      <td>194.0</td>\n",
       "      <td>276.0</td>\n",
       "      <td>246.0</td>\n",
       "      <td>158.0</td>\n",
       "      <td>198.0</td>\n",
       "      <td>142.0</td>\n",
       "      <td>167.0</td>\n",
       "    </tr>\n",
       "    <tr>\n",
       "      <td>2018-08-31 21:00:00</td>\n",
       "      <td>159</td>\n",
       "      <td>2018</td>\n",
       "      <td>8</td>\n",
       "      <td>31</td>\n",
       "      <td>4</td>\n",
       "      <td>0</td>\n",
       "      <td>154.0</td>\n",
       "      <td>136.0</td>\n",
       "      <td>207.0</td>\n",
       "      <td>217.0</td>\n",
       "      <td>...</td>\n",
       "      <td>78.0</td>\n",
       "      <td>268.0</td>\n",
       "      <td>99.0</td>\n",
       "      <td>230.0</td>\n",
       "      <td>194.0</td>\n",
       "      <td>276.0</td>\n",
       "      <td>246.0</td>\n",
       "      <td>158.0</td>\n",
       "      <td>198.0</td>\n",
       "      <td>166.0</td>\n",
       "    </tr>\n",
       "    <tr>\n",
       "      <td>2018-08-31 22:00:00</td>\n",
       "      <td>223</td>\n",
       "      <td>2018</td>\n",
       "      <td>8</td>\n",
       "      <td>31</td>\n",
       "      <td>4</td>\n",
       "      <td>0</td>\n",
       "      <td>159.0</td>\n",
       "      <td>154.0</td>\n",
       "      <td>136.0</td>\n",
       "      <td>207.0</td>\n",
       "      <td>...</td>\n",
       "      <td>35.0</td>\n",
       "      <td>78.0</td>\n",
       "      <td>268.0</td>\n",
       "      <td>99.0</td>\n",
       "      <td>230.0</td>\n",
       "      <td>194.0</td>\n",
       "      <td>276.0</td>\n",
       "      <td>246.0</td>\n",
       "      <td>158.0</td>\n",
       "      <td>169.0</td>\n",
       "    </tr>\n",
       "    <tr>\n",
       "      <td>2018-08-31 23:00:00</td>\n",
       "      <td>205</td>\n",
       "      <td>2018</td>\n",
       "      <td>8</td>\n",
       "      <td>31</td>\n",
       "      <td>4</td>\n",
       "      <td>0</td>\n",
       "      <td>223.0</td>\n",
       "      <td>159.0</td>\n",
       "      <td>154.0</td>\n",
       "      <td>136.0</td>\n",
       "      <td>...</td>\n",
       "      <td>46.0</td>\n",
       "      <td>35.0</td>\n",
       "      <td>78.0</td>\n",
       "      <td>268.0</td>\n",
       "      <td>99.0</td>\n",
       "      <td>230.0</td>\n",
       "      <td>194.0</td>\n",
       "      <td>276.0</td>\n",
       "      <td>246.0</td>\n",
       "      <td>185.0</td>\n",
       "    </tr>\n",
       "  </tbody>\n",
       "</table>\n",
       "<p>5 rows × 31 columns</p>\n",
       "</div>"
      ],
      "text/plain": [
       "                     num_orders  year  month  day  dayofweek  is_weekend  \\\n",
       "datetime                                                                   \n",
       "2018-08-31 19:00:00         136  2018      8   31          4           0   \n",
       "2018-08-31 20:00:00         154  2018      8   31          4           0   \n",
       "2018-08-31 21:00:00         159  2018      8   31          4           0   \n",
       "2018-08-31 22:00:00         223  2018      8   31          4           0   \n",
       "2018-08-31 23:00:00         205  2018      8   31          4           0   \n",
       "\n",
       "                     lag_1  lag_2  lag_3  lag_4  ...  lag_16  lag_17  lag_18  \\\n",
       "datetime                                         ...                           \n",
       "2018-08-31 19:00:00  207.0  217.0  197.0  116.0  ...    99.0   230.0   194.0   \n",
       "2018-08-31 20:00:00  136.0  207.0  217.0  197.0  ...   268.0    99.0   230.0   \n",
       "2018-08-31 21:00:00  154.0  136.0  207.0  217.0  ...    78.0   268.0    99.0   \n",
       "2018-08-31 22:00:00  159.0  154.0  136.0  207.0  ...    35.0    78.0   268.0   \n",
       "2018-08-31 23:00:00  223.0  159.0  154.0  136.0  ...    46.0    35.0    78.0   \n",
       "\n",
       "                     lag_19  lag_20  lag_21  lag_22  lag_23  lag_24  \\\n",
       "datetime                                                              \n",
       "2018-08-31 19:00:00   276.0   246.0   158.0   198.0   142.0    72.0   \n",
       "2018-08-31 20:00:00   194.0   276.0   246.0   158.0   198.0   142.0   \n",
       "2018-08-31 21:00:00   230.0   194.0   276.0   246.0   158.0   198.0   \n",
       "2018-08-31 22:00:00    99.0   230.0   194.0   276.0   246.0   158.0   \n",
       "2018-08-31 23:00:00   268.0    99.0   230.0   194.0   276.0   246.0   \n",
       "\n",
       "                     rolling_mean  \n",
       "datetime                           \n",
       "2018-08-31 19:00:00         167.0  \n",
       "2018-08-31 20:00:00         167.0  \n",
       "2018-08-31 21:00:00         166.0  \n",
       "2018-08-31 22:00:00         169.0  \n",
       "2018-08-31 23:00:00         185.0  \n",
       "\n",
       "[5 rows x 31 columns]"
      ]
     },
     "execution_count": 11,
     "metadata": {},
     "output_type": "execute_result"
    }
   ],
   "source": [
    "df_resample.tail(5)"
   ]
  },
  {
   "cell_type": "markdown",
   "metadata": {},
   "source": [
    "### Вывод\n",
    "Ресемплировали временной ряд на 1 час, проверели на стационарность ряд оказался стационарным.Тренд и сезоность выяснили что люди летом чаще летеют и соответственно заказывают больше такси,создали признаки для прогнозирования num_orders  "
   ]
  },
  {
   "cell_type": "markdown",
   "metadata": {},
   "source": [
    "## Обучение"
   ]
  },
  {
   "cell_type": "markdown",
   "metadata": {},
   "source": [
    "Делим выборку на train и test 90/10"
   ]
  },
  {
   "cell_type": "code",
   "execution_count": 12,
   "metadata": {},
   "outputs": [],
   "source": [
    "train,test = train_test_split(df_resample, shuffle=False, test_size=0.1)"
   ]
  },
  {
   "cell_type": "code",
   "execution_count": 13,
   "metadata": {},
   "outputs": [
    {
     "name": "stdout",
     "output_type": "stream",
     "text": [
      "Кол-во в обучающей выборке 3974\n",
      "Кол-во в тестовой выборке 442\n"
     ]
    }
   ],
   "source": [
    "print('Кол-во в обучающей выборке',train.shape[0])\n",
    "print('Кол-во в тестовой выборке',test.shape[0])"
   ]
  },
  {
   "cell_type": "markdown",
   "metadata": {},
   "source": [
    "Удостоверимся правильно мы разбили выборку"
   ]
  },
  {
   "cell_type": "code",
   "execution_count": 14,
   "metadata": {},
   "outputs": [
    {
     "name": "stdout",
     "output_type": "stream",
     "text": [
      "2018-03-01 00:00:00 2018-08-13 13:00:00\n",
      "2018-08-13 14:00:00 2018-08-31 23:00:00\n"
     ]
    }
   ],
   "source": [
    "print(train.index.min(), train.index.max())\n",
    "print(test.index.min(), test.index.max())"
   ]
  },
  {
   "cell_type": "markdown",
   "metadata": {},
   "source": [
    "Удалим пропуски с train выборке"
   ]
  },
  {
   "cell_type": "code",
   "execution_count": 15,
   "metadata": {},
   "outputs": [],
   "source": [
    "train = train.dropna()"
   ]
  },
  {
   "cell_type": "markdown",
   "metadata": {},
   "source": [
    "Напишем функцию features_target которая разделит на целевой признак и признаки"
   ]
  },
  {
   "cell_type": "code",
   "execution_count": 16,
   "metadata": {},
   "outputs": [],
   "source": [
    "def features_target(data):\n",
    "    target = data['num_orders']\n",
    "    features = data.drop('num_orders', axis=1)\n",
    "    return features,target"
   ]
  },
  {
   "cell_type": "code",
   "execution_count": 17,
   "metadata": {},
   "outputs": [],
   "source": [
    "features_train,target_train= features_target(train)\n",
    "features_test,target_test= features_target(test)"
   ]
  },
  {
   "cell_type": "code",
   "execution_count": 108,
   "metadata": {},
   "outputs": [],
   "source": [
    "lr = LinearRegression()\n",
    "rf = RandomForestRegressor(random_state = 42,max_depth=20,min_samples_split=4,n_estimators=150)\n",
    "lgbm =LGBMRegressor(random_state=42,max_depth=20,learning_rate=0.05,n_estimators=200)"
   ]
  },
  {
   "cell_type": "code",
   "execution_count": 99,
   "metadata": {},
   "outputs": [],
   "source": [
    "def rmse_score(true_target,pred_target):\n",
    "    rmse = mean_squared_error(true_target,pred_target) ** 0.5\n",
    "    return rmse"
   ]
  },
  {
   "cell_type": "code",
   "execution_count": 94,
   "metadata": {},
   "outputs": [],
   "source": [
    "def fit_result(model,f_train,t_train,f_test,t_test):\n",
    "    model.fit(f_train,t_train)\n",
    "    pred_train = model.predict(f_train)\n",
    "    pred_test  = model.predict(f_test)\n",
    "    train_score = rmse_score(t_train,pred_train)\n",
    "    test_score = rmse_score(t_test,pred_test)\n",
    "    \n",
    "    plt.figure(figsize=(8, 8))\n",
    "    plt.subplot(211)\n",
    "    t_train.plot(ax=plt.gca(),label='True target')\n",
    "    pd.Series(pred_train,index=t_train.index).plot(ax=plt.gca(),label='Predicted target')\n",
    "    plt.legend(bbox_to_anchor=(1.05, 1), loc='upper left', borderaxespad=0.)\n",
    "    plt.text(t_train.index[10], 400, \"rmse \"+str(round(train_score,2)),fontsize=14)\n",
    "    plt.title('Train')\n",
    "    \n",
    "    plt.subplot(212)\n",
    "    t_test.plot(ax=plt.gca(),label='True target')\n",
    "    pd.Series(pred_test,index=t_test.index).plot(ax=plt.gca(),label='Predicted target')\n",
    "    plt.legend(bbox_to_anchor=(1.05, 1), loc='upper left', borderaxespad=0.)\n",
    "    plt.text(t_test.index[1], 400, \"rmse \"+str(round(test_score,2)),fontsize=14)\n",
    "    plt.title('Test')\n",
    "    \n",
    "    plt.tight_layout()\n",
    "    return train_score, test_score"
   ]
  },
  {
   "cell_type": "markdown",
   "metadata": {},
   "source": [
    "### LinearRegression"
   ]
  },
  {
   "cell_type": "code",
   "execution_count": 95,
   "metadata": {},
   "outputs": [
    {
     "data": {
      "image/png": "[encoded data removed]",
      "text/plain": [
       "<Figure size 576x576 with 2 Axes>"
      ]
     },
     "metadata": {
      "needs_background": "light"
     },
     "output_type": "display_data"
    }
   ],
   "source": [
    "lr_train_score,lr_test_score = fit_result(lr,features_train,target_train,features_test,target_test)"
   ]
  },
  {
   "cell_type": "markdown",
   "metadata": {},
   "source": [
    "### RandomForestRegressor"
   ]
  },
  {
   "cell_type": "code",
   "execution_count": 96,
   "metadata": {},
   "outputs": [
    {
     "data": {
      "image/png": "[encoded data removed]",
      "text/plain": [
       "<Figure size 576x576 with 2 Axes>"
      ]
     },
     "metadata": {
      "needs_background": "light"
     },
     "output_type": "display_data"
    }
   ],
   "source": [
    "rf_train_score,rf_test_score = fit_result(rf,features_train,target_train,features_test,target_test)"
   ]
  },
  {
   "cell_type": "markdown",
   "metadata": {},
   "source": [
    "### LGBMRegressor"
   ]
  },
  {
   "cell_type": "code",
   "execution_count": 109,
   "metadata": {},
   "outputs": [
    {
     "data": {
      "image/png": "[encoded data removed]",
      "text/plain": [
       "<Figure size 576x576 with 2 Axes>"
      ]
     },
     "metadata": {
      "needs_background": "light"
     },
     "output_type": "display_data"
    }
   ],
   "source": [
    "lgbm_train_score,lgbm_test_score = fit_result(lgbm,features_train,target_train,features_test,target_test)"
   ]
  },
  {
   "cell_type": "markdown",
   "metadata": {},
   "source": [
    "## Тестирование"
   ]
  },
  {
   "cell_type": "code",
   "execution_count": 110,
   "metadata": {},
   "outputs": [
    {
     "data": {
      "text/html": [
       "<div>\n",
       "<style scoped>\n",
       "    .dataframe tbody tr th:only-of-type {\n",
       "        vertical-align: middle;\n",
       "    }\n",
       "\n",
       "    .dataframe tbody tr th {\n",
       "        vertical-align: top;\n",
       "    }\n",
       "\n",
       "    .dataframe thead th {\n",
       "        text-align: right;\n",
       "    }\n",
       "</style>\n",
       "<table border=\"1\" class=\"dataframe\">\n",
       "  <thead>\n",
       "    <tr style=\"text-align: right;\">\n",
       "      <th></th>\n",
       "      <th>model</th>\n",
       "      <th>train_rmse</th>\n",
       "      <th>test_rmse</th>\n",
       "    </tr>\n",
       "  </thead>\n",
       "  <tbody>\n",
       "    <tr>\n",
       "      <td>0</td>\n",
       "      <td>LinearRegression</td>\n",
       "      <td>25.781896</td>\n",
       "      <td>45.341667</td>\n",
       "    </tr>\n",
       "    <tr>\n",
       "      <td>1</td>\n",
       "      <td>RandomForestRegressor</td>\n",
       "      <td>9.538894</td>\n",
       "      <td>42.304257</td>\n",
       "    </tr>\n",
       "    <tr>\n",
       "      <td>2</td>\n",
       "      <td>LGBMRegressor</td>\n",
       "      <td>12.509526</td>\n",
       "      <td>41.324621</td>\n",
       "    </tr>\n",
       "  </tbody>\n",
       "</table>\n",
       "</div>"
      ],
      "text/plain": [
       "                   model  train_rmse  test_rmse\n",
       "0       LinearRegression   25.781896  45.341667\n",
       "1  RandomForestRegressor    9.538894  42.304257\n",
       "2          LGBMRegressor   12.509526  41.324621"
      ]
     },
     "execution_count": 110,
     "metadata": {},
     "output_type": "execute_result"
    }
   ],
   "source": [
    "data = {'model':['LinearRegression','RandomForestRegressor','LGBMRegressor'],\n",
    "                       'train_rmse':[lr_train_score,rf_train_score,lgbm_train_score],\n",
    "                       'test_rmse': [lr_test_score,rf_test_score,lgbm_test_score]}\n",
    "results = pd.DataFrame.from_dict(data)\n",
    "results"
   ]
  },
  {
   "cell_type": "markdown",
   "metadata": {},
   "source": [
    "### Вывод \n",
    "Не плохо предсказывает временной ряд LinearRegression из всех 3 моделей у нее наименьшая разница между train и test score,RandomForestRegressor и LGBMRegressor явно переобучились и разрыв очень большой между скорами."
   ]
  }
 ],
 "metadata": {
  "ExecuteTimeLog": [
   {
    "duration": 828,
    "start_time": "2021-06-15T03:56:26.605Z"
   },
   {
    "duration": 50,
    "start_time": "2021-06-15T03:56:52.247Z"
   },
   {
    "duration": 10,
    "start_time": "2021-06-15T03:57:06.433Z"
   },
   {
    "duration": 2045,
    "start_time": "2021-06-15T03:57:47.686Z"
   },
   {
    "duration": 7851,
    "start_time": "2021-06-15T03:58:10.401Z"
   },
   {
    "duration": 2150,
    "start_time": "2021-06-15T03:59:12.057Z"
   },
   {
    "duration": 52,
    "start_time": "2021-06-15T03:59:41.520Z"
   },
   {
    "duration": 9,
    "start_time": "2021-06-15T04:01:56.800Z"
   },
   {
    "duration": 4,
    "start_time": "2021-06-15T04:03:55.975Z"
   },
   {
    "duration": 13,
    "start_time": "2021-06-15T04:04:01.223Z"
   },
   {
    "duration": 314,
    "start_time": "2021-06-15T04:04:38.144Z"
   },
   {
    "duration": 5,
    "start_time": "2021-06-15T04:04:43.694Z"
   },
   {
    "duration": 6,
    "start_time": "2021-06-15T04:04:47.879Z"
   },
   {
    "duration": 1071,
    "start_time": "2021-06-15T04:05:19.321Z"
   },
   {
    "duration": 889,
    "start_time": "2021-06-15T04:05:23.343Z"
   },
   {
    "duration": 448,
    "start_time": "2021-06-15T04:07:57.760Z"
   },
   {
    "duration": 459,
    "start_time": "2021-06-15T04:08:16.695Z"
   },
   {
    "duration": 497,
    "start_time": "2021-06-15T04:09:57.399Z"
   },
   {
    "duration": 458,
    "start_time": "2021-06-15T04:10:20.927Z"
   },
   {
    "duration": 645,
    "start_time": "2021-06-15T04:10:28.055Z"
   },
   {
    "duration": 472,
    "start_time": "2021-06-15T04:10:33.950Z"
   },
   {
    "duration": 428,
    "start_time": "2021-06-15T04:15:46.902Z"
   },
   {
    "duration": 326,
    "start_time": "2021-06-15T04:16:45.023Z"
   },
   {
    "duration": 320,
    "start_time": "2021-06-15T04:18:15.422Z"
   },
   {
    "duration": 7,
    "start_time": "2021-06-15T04:18:39.200Z"
   },
   {
    "duration": 1442,
    "start_time": "2021-06-15T04:18:56.503Z"
   },
   {
    "duration": 483,
    "start_time": "2021-06-15T04:39:58.447Z"
   },
   {
    "duration": 487,
    "start_time": "2021-06-15T04:40:03.733Z"
   },
   {
    "duration": 691,
    "start_time": "2021-06-15T04:40:08.950Z"
   },
   {
    "duration": 116,
    "start_time": "2021-06-15T04:52:00.887Z"
   },
   {
    "duration": 7,
    "start_time": "2021-06-15T04:54:00.590Z"
   },
   {
    "duration": 6,
    "start_time": "2021-06-15T04:54:22.022Z"
   },
   {
    "duration": 5,
    "start_time": "2021-06-15T04:54:39.022Z"
   },
   {
    "duration": 7,
    "start_time": "2021-06-15T05:01:59.006Z"
   },
   {
    "duration": 5,
    "start_time": "2021-06-15T05:02:07.581Z"
   },
   {
    "duration": 5,
    "start_time": "2021-06-15T05:02:14.045Z"
   },
   {
    "duration": 6,
    "start_time": "2021-06-15T06:33:14.213Z"
   },
   {
    "duration": 6,
    "start_time": "2021-06-15T08:35:33.261Z"
   },
   {
    "duration": 7,
    "start_time": "2021-06-15T08:38:10.818Z"
   },
   {
    "duration": 14,
    "start_time": "2021-06-15T08:40:48.505Z"
   },
   {
    "duration": 28,
    "start_time": "2021-06-15T08:41:52.178Z"
   },
   {
    "duration": 48,
    "start_time": "2021-06-15T08:42:04.180Z"
   },
   {
    "duration": 4,
    "start_time": "2021-06-15T11:36:52.968Z"
   },
   {
    "duration": 5,
    "start_time": "2021-06-15T15:03:50.806Z"
   },
   {
    "duration": 51,
    "start_time": "2021-06-15T15:03:51.554Z"
   },
   {
    "duration": 9,
    "start_time": "2021-06-15T15:03:53.451Z"
   },
   {
    "duration": 6,
    "start_time": "2021-06-15T15:03:53.913Z"
   },
   {
    "duration": 1062,
    "start_time": "2021-06-15T15:03:54.413Z"
   },
   {
    "duration": 474,
    "start_time": "2021-06-15T15:03:55.477Z"
   },
   {
    "duration": 507,
    "start_time": "2021-06-15T15:03:55.954Z"
   },
   {
    "duration": 7,
    "start_time": "2021-06-15T15:03:56.464Z"
   },
   {
    "duration": 1482,
    "start_time": "2021-06-15T15:03:56.594Z"
   },
   {
    "duration": 6,
    "start_time": "2021-06-15T15:03:58.086Z"
   },
   {
    "duration": 18,
    "start_time": "2021-06-15T15:03:59.410Z"
   },
   {
    "duration": 31,
    "start_time": "2021-06-15T15:04:00.564Z"
   },
   {
    "duration": 8,
    "start_time": "2021-06-15T15:04:18.999Z"
   },
   {
    "duration": 6,
    "start_time": "2021-06-15T15:04:20.020Z"
   },
   {
    "duration": 8,
    "start_time": "2021-06-15T15:04:21.575Z"
   },
   {
    "duration": 5,
    "start_time": "2021-06-15T15:04:22.341Z"
   },
   {
    "duration": 11,
    "start_time": "2021-06-15T15:04:24.482Z"
   },
   {
    "duration": 28,
    "start_time": "2021-06-15T15:04:32.482Z"
   },
   {
    "duration": 331,
    "start_time": "2021-06-15T15:08:27.108Z"
   },
   {
    "duration": 8,
    "start_time": "2021-06-15T15:13:30.077Z"
   },
   {
    "duration": 5,
    "start_time": "2021-06-15T15:16:09.594Z"
   },
   {
    "duration": 8,
    "start_time": "2021-06-15T15:17:31.881Z"
   },
   {
    "duration": 92,
    "start_time": "2021-06-15T15:18:58.294Z"
   },
   {
    "duration": 298,
    "start_time": "2021-06-15T15:20:40.808Z"
   },
   {
    "duration": 6,
    "start_time": "2021-06-15T15:20:56.968Z"
   },
   {
    "duration": 6,
    "start_time": "2021-06-15T15:21:10.954Z"
   },
   {
    "duration": 7,
    "start_time": "2021-06-15T15:21:14.979Z"
   },
   {
    "duration": 5,
    "start_time": "2021-06-15T15:21:21.278Z"
   },
   {
    "duration": 5,
    "start_time": "2021-06-15T15:21:26.020Z"
   },
   {
    "duration": 18,
    "start_time": "2021-06-15T15:21:51.729Z"
   },
   {
    "duration": 35,
    "start_time": "2021-06-15T15:21:52.279Z"
   },
   {
    "duration": 7,
    "start_time": "2021-06-15T15:21:54.227Z"
   },
   {
    "duration": 4,
    "start_time": "2021-06-15T15:21:54.433Z"
   },
   {
    "duration": 7,
    "start_time": "2021-06-15T15:21:54.630Z"
   },
   {
    "duration": 5,
    "start_time": "2021-06-15T15:21:54.851Z"
   },
   {
    "duration": 8,
    "start_time": "2021-06-15T15:21:55.033Z"
   },
   {
    "duration": 8,
    "start_time": "2021-06-15T15:21:55.495Z"
   },
   {
    "duration": 3,
    "start_time": "2021-06-15T15:21:55.745Z"
   },
   {
    "duration": 8,
    "start_time": "2021-06-15T15:21:56.017Z"
   },
   {
    "duration": 17,
    "start_time": "2021-06-15T15:21:56.251Z"
   },
   {
    "duration": 6,
    "start_time": "2021-06-15T15:21:56.643Z"
   },
   {
    "duration": 5,
    "start_time": "2021-06-15T15:21:57.171Z"
   },
   {
    "duration": 5,
    "start_time": "2021-06-15T15:21:57.896Z"
   },
   {
    "duration": 5,
    "start_time": "2021-06-15T15:21:58.955Z"
   },
   {
    "duration": 24,
    "start_time": "2021-06-15T15:22:14.265Z"
   },
   {
    "duration": 47,
    "start_time": "2021-06-15T15:22:14.520Z"
   },
   {
    "duration": 8,
    "start_time": "2021-06-15T15:22:15.297Z"
   },
   {
    "duration": 5,
    "start_time": "2021-06-15T15:22:15.561Z"
   },
   {
    "duration": 7,
    "start_time": "2021-06-15T15:22:15.808Z"
   },
   {
    "duration": 6,
    "start_time": "2021-06-15T15:22:16.049Z"
   },
   {
    "duration": 7,
    "start_time": "2021-06-15T15:22:16.463Z"
   },
   {
    "duration": 8,
    "start_time": "2021-06-15T15:22:16.670Z"
   },
   {
    "duration": 5,
    "start_time": "2021-06-15T15:22:17.090Z"
   },
   {
    "duration": 8,
    "start_time": "2021-06-15T15:22:17.425Z"
   },
   {
    "duration": 209,
    "start_time": "2021-06-15T15:22:17.782Z"
   },
   {
    "duration": 6,
    "start_time": "2021-06-15T15:22:18.185Z"
   },
   {
    "duration": 6,
    "start_time": "2021-06-15T15:22:18.859Z"
   },
   {
    "duration": 8,
    "start_time": "2021-06-15T15:22:19.454Z"
   },
   {
    "duration": 5,
    "start_time": "2021-06-15T15:22:21.030Z"
   },
   {
    "duration": 14,
    "start_time": "2021-06-15T15:23:29.273Z"
   },
   {
    "duration": 45,
    "start_time": "2021-06-15T15:23:29.453Z"
   },
   {
    "duration": 7,
    "start_time": "2021-06-15T15:23:30.628Z"
   },
   {
    "duration": 4,
    "start_time": "2021-06-15T15:23:30.786Z"
   },
   {
    "duration": 7,
    "start_time": "2021-06-15T15:23:30.957Z"
   },
   {
    "duration": 6,
    "start_time": "2021-06-15T15:23:31.111Z"
   },
   {
    "duration": 7,
    "start_time": "2021-06-15T15:23:31.284Z"
   },
   {
    "duration": 7,
    "start_time": "2021-06-15T15:23:31.440Z"
   },
   {
    "duration": 4,
    "start_time": "2021-06-15T15:23:31.635Z"
   },
   {
    "duration": 9,
    "start_time": "2021-06-15T15:23:31.981Z"
   },
   {
    "duration": 110,
    "start_time": "2021-06-15T15:23:32.177Z"
   },
   {
    "duration": 5,
    "start_time": "2021-06-15T15:23:32.523Z"
   },
   {
    "duration": 6,
    "start_time": "2021-06-15T15:23:32.916Z"
   },
   {
    "duration": 6,
    "start_time": "2021-06-15T15:23:33.496Z"
   },
   {
    "duration": 5,
    "start_time": "2021-06-15T15:23:34.458Z"
   },
   {
    "duration": 14,
    "start_time": "2021-06-15T15:23:42.766Z"
   },
   {
    "duration": 47,
    "start_time": "2021-06-15T15:23:42.932Z"
   },
   {
    "duration": 7,
    "start_time": "2021-06-15T15:23:43.599Z"
   },
   {
    "duration": 5,
    "start_time": "2021-06-15T15:23:43.761Z"
   },
   {
    "duration": 7,
    "start_time": "2021-06-15T15:23:43.917Z"
   },
   {
    "duration": 6,
    "start_time": "2021-06-15T15:23:44.088Z"
   },
   {
    "duration": 8,
    "start_time": "2021-06-15T15:23:44.252Z"
   },
   {
    "duration": 8,
    "start_time": "2021-06-15T15:23:44.425Z"
   },
   {
    "duration": 5,
    "start_time": "2021-06-15T15:23:44.618Z"
   },
   {
    "duration": 9,
    "start_time": "2021-06-15T15:23:44.938Z"
   },
   {
    "duration": 28,
    "start_time": "2021-06-15T15:23:45.170Z"
   },
   {
    "duration": 7,
    "start_time": "2021-06-15T15:23:45.496Z"
   },
   {
    "duration": 6,
    "start_time": "2021-06-15T15:23:46.092Z"
   },
   {
    "duration": 5,
    "start_time": "2021-06-15T15:23:46.787Z"
   },
   {
    "duration": 6,
    "start_time": "2021-06-15T15:23:48.095Z"
   },
   {
    "duration": 6,
    "start_time": "2021-06-15T15:24:51.782Z"
   },
   {
    "duration": 6,
    "start_time": "2021-06-15T15:24:52.338Z"
   },
   {
    "duration": 4,
    "start_time": "2021-06-15T15:24:52.969Z"
   },
   {
    "duration": 3,
    "start_time": "2021-06-15T15:24:53.757Z"
   },
   {
    "duration": 6,
    "start_time": "2021-06-15T15:24:54.215Z"
   },
   {
    "duration": 7,
    "start_time": "2021-06-15T15:25:00.170Z"
   },
   {
    "duration": 5,
    "start_time": "2021-06-15T15:25:00.675Z"
   },
   {
    "duration": 7,
    "start_time": "2021-06-15T15:25:01.105Z"
   },
   {
    "duration": 182,
    "start_time": "2021-06-15T15:25:01.603Z"
   },
   {
    "duration": 5,
    "start_time": "2021-06-15T15:25:01.961Z"
   },
   {
    "duration": 6,
    "start_time": "2021-06-15T15:25:02.841Z"
   },
   {
    "duration": 5,
    "start_time": "2021-06-15T15:25:07.265Z"
   },
   {
    "duration": 12,
    "start_time": "2021-06-15T15:25:32.688Z"
   },
   {
    "duration": 45,
    "start_time": "2021-06-15T15:25:33.169Z"
   },
   {
    "duration": 9,
    "start_time": "2021-06-15T15:25:33.933Z"
   },
   {
    "duration": 5,
    "start_time": "2021-06-15T15:25:34.273Z"
   },
   {
    "duration": 3,
    "start_time": "2021-06-15T15:25:34.535Z"
   },
   {
    "duration": 3,
    "start_time": "2021-06-15T15:25:34.767Z"
   },
   {
    "duration": 6,
    "start_time": "2021-06-15T15:25:35.228Z"
   },
   {
    "duration": 8,
    "start_time": "2021-06-15T15:25:35.610Z"
   },
   {
    "duration": 4,
    "start_time": "2021-06-15T15:25:36.132Z"
   },
   {
    "duration": 6,
    "start_time": "2021-06-15T15:25:36.460Z"
   },
   {
    "duration": 14,
    "start_time": "2021-06-15T15:25:36.797Z"
   },
   {
    "duration": 6,
    "start_time": "2021-06-15T15:25:37.181Z"
   },
   {
    "duration": 5,
    "start_time": "2021-06-15T15:25:37.627Z"
   },
   {
    "duration": 3,
    "start_time": "2021-06-15T15:25:38.768Z"
   },
   {
    "duration": 5,
    "start_time": "2021-06-15T15:25:40.625Z"
   },
   {
    "duration": 4,
    "start_time": "2021-06-15T15:37:15.936Z"
   },
   {
    "duration": 587,
    "start_time": "2021-06-15T15:38:45.598Z"
   },
   {
    "duration": 6,
    "start_time": "2021-06-15T15:39:33.774Z"
   },
   {
    "duration": 5,
    "start_time": "2021-06-15T15:39:41.955Z"
   },
   {
    "duration": 5,
    "start_time": "2021-06-15T15:39:47.810Z"
   },
   {
    "duration": 413,
    "start_time": "2021-06-15T15:40:31.095Z"
   },
   {
    "duration": 5,
    "start_time": "2021-06-15T15:40:31.998Z"
   },
   {
    "duration": 5,
    "start_time": "2021-06-15T15:40:32.878Z"
   },
   {
    "duration": 7,
    "start_time": "2021-06-15T15:40:34.277Z"
   },
   {
    "duration": 6,
    "start_time": "2021-06-15T15:40:50.741Z"
   },
   {
    "duration": 6,
    "start_time": "2021-06-15T15:40:51.133Z"
   },
   {
    "duration": 6,
    "start_time": "2021-06-15T15:40:52.218Z"
   },
   {
    "duration": 412,
    "start_time": "2021-06-15T15:41:19.548Z"
   },
   {
    "duration": 5,
    "start_time": "2021-06-15T15:41:21.018Z"
   },
   {
    "duration": 5,
    "start_time": "2021-06-15T15:41:21.779Z"
   },
   {
    "duration": 5,
    "start_time": "2021-06-15T15:41:22.924Z"
   },
   {
    "duration": 538,
    "start_time": "2021-06-15T15:43:45.447Z"
   },
   {
    "duration": 6,
    "start_time": "2021-06-15T15:43:46.775Z"
   },
   {
    "duration": 5,
    "start_time": "2021-06-15T15:43:47.914Z"
   },
   {
    "duration": 6,
    "start_time": "2021-06-15T15:43:49.422Z"
   },
   {
    "duration": 553,
    "start_time": "2021-06-15T15:43:57.276Z"
   },
   {
    "duration": 6,
    "start_time": "2021-06-15T15:43:58.481Z"
   },
   {
    "duration": 5,
    "start_time": "2021-06-15T15:43:59.104Z"
   },
   {
    "duration": 6,
    "start_time": "2021-06-15T15:44:00.317Z"
   },
   {
    "duration": 538,
    "start_time": "2021-06-15T15:44:05.601Z"
   },
   {
    "duration": 6,
    "start_time": "2021-06-15T15:44:06.416Z"
   },
   {
    "duration": 6,
    "start_time": "2021-06-15T15:44:06.955Z"
   },
   {
    "duration": 6,
    "start_time": "2021-06-15T15:44:07.865Z"
   },
   {
    "duration": 541,
    "start_time": "2021-06-15T15:44:17.037Z"
   },
   {
    "duration": 9,
    "start_time": "2021-06-15T15:44:17.797Z"
   },
   {
    "duration": 6,
    "start_time": "2021-06-15T15:44:18.298Z"
   },
   {
    "duration": 7,
    "start_time": "2021-06-15T15:44:18.971Z"
   },
   {
    "duration": 552,
    "start_time": "2021-06-15T15:44:23.802Z"
   },
   {
    "duration": 5,
    "start_time": "2021-06-15T15:44:24.357Z"
   },
   {
    "duration": 6,
    "start_time": "2021-06-15T15:44:24.620Z"
   },
   {
    "duration": 6,
    "start_time": "2021-06-15T15:44:25.197Z"
   },
   {
    "duration": 583,
    "start_time": "2021-06-15T15:44:32.899Z"
   },
   {
    "duration": 6,
    "start_time": "2021-06-15T15:44:33.611Z"
   },
   {
    "duration": 5,
    "start_time": "2021-06-15T15:44:34.047Z"
   },
   {
    "duration": 6,
    "start_time": "2021-06-15T15:44:35.259Z"
   },
   {
    "duration": 47,
    "start_time": "2021-06-15T15:46:19.105Z"
   },
   {
    "duration": 14,
    "start_time": "2021-06-15T15:46:57.593Z"
   },
   {
    "duration": 43,
    "start_time": "2021-06-15T15:46:58.273Z"
   },
   {
    "duration": 13,
    "start_time": "2021-06-15T15:47:26.790Z"
   },
   {
    "duration": 45,
    "start_time": "2021-06-15T15:47:27.575Z"
   },
   {
    "duration": 13,
    "start_time": "2021-06-15T15:47:52.803Z"
   },
   {
    "duration": 45,
    "start_time": "2021-06-15T15:47:53.449Z"
   },
   {
    "duration": 1514,
    "start_time": "2021-06-15T15:48:10.288Z"
   },
   {
    "duration": 59,
    "start_time": "2021-06-15T15:48:14.077Z"
   },
   {
    "duration": 9,
    "start_time": "2021-06-15T15:48:14.570Z"
   },
   {
    "duration": 6,
    "start_time": "2021-06-15T15:48:15.295Z"
   },
   {
    "duration": 1009,
    "start_time": "2021-06-15T15:48:15.631Z"
   },
   {
    "duration": 596,
    "start_time": "2021-06-15T15:48:16.643Z"
   },
   {
    "duration": 495,
    "start_time": "2021-06-15T15:48:17.242Z"
   },
   {
    "duration": 8,
    "start_time": "2021-06-15T15:48:17.740Z"
   },
   {
    "duration": 1514,
    "start_time": "2021-06-15T15:48:17.749Z"
   },
   {
    "duration": 6,
    "start_time": "2021-06-15T15:48:19.266Z"
   },
   {
    "duration": 18,
    "start_time": "2021-06-15T15:48:22.308Z"
   },
   {
    "duration": 23,
    "start_time": "2021-06-15T15:48:24.105Z"
   },
   {
    "duration": 8,
    "start_time": "2021-06-15T15:48:36.109Z"
   },
   {
    "duration": 5,
    "start_time": "2021-06-15T15:48:36.828Z"
   },
   {
    "duration": 3,
    "start_time": "2021-06-15T15:48:37.353Z"
   },
   {
    "duration": 3,
    "start_time": "2021-06-15T15:48:38.007Z"
   },
   {
    "duration": 6,
    "start_time": "2021-06-15T15:48:38.494Z"
   },
   {
    "duration": 8,
    "start_time": "2021-06-15T15:48:39.063Z"
   },
   {
    "duration": 4,
    "start_time": "2021-06-15T15:48:39.533Z"
   },
   {
    "duration": 6,
    "start_time": "2021-06-15T15:48:39.917Z"
   },
   {
    "duration": 11,
    "start_time": "2021-06-15T15:48:40.346Z"
   },
   {
    "duration": 6,
    "start_time": "2021-06-15T15:48:40.815Z"
   },
   {
    "duration": 224,
    "start_time": "2021-06-15T15:48:41.470Z"
   },
   {
    "duration": 6,
    "start_time": "2021-06-15T15:48:43.275Z"
   },
   {
    "duration": 5,
    "start_time": "2021-06-15T15:48:44.082Z"
   },
   {
    "duration": 5,
    "start_time": "2021-06-15T15:48:44.825Z"
   },
   {
    "duration": 6,
    "start_time": "2021-06-15T15:48:47.056Z"
   },
   {
    "duration": 3,
    "start_time": "2021-06-15T15:48:47.762Z"
   },
   {
    "duration": 5,
    "start_time": "2021-06-15T15:48:48.217Z"
   },
   {
    "duration": 29,
    "start_time": "2021-06-15T15:49:11.398Z"
   },
   {
    "duration": 18,
    "start_time": "2021-06-15T15:50:48.312Z"
   },
   {
    "duration": 48,
    "start_time": "2021-06-15T15:50:49.030Z"
   },
   {
    "duration": 43,
    "start_time": "2021-06-15T15:50:58.987Z"
   },
   {
    "duration": 8,
    "start_time": "2021-06-15T15:50:59.572Z"
   },
   {
    "duration": 6,
    "start_time": "2021-06-15T15:50:59.942Z"
   },
   {
    "duration": 4,
    "start_time": "2021-06-15T15:51:00.435Z"
   },
   {
    "duration": 3,
    "start_time": "2021-06-15T15:51:00.746Z"
   },
   {
    "duration": 5,
    "start_time": "2021-06-15T15:51:01.031Z"
   },
   {
    "duration": 8,
    "start_time": "2021-06-15T15:51:01.625Z"
   },
   {
    "duration": 4,
    "start_time": "2021-06-15T15:51:02.473Z"
   },
   {
    "duration": 7,
    "start_time": "2021-06-15T15:51:03.171Z"
   },
   {
    "duration": 37,
    "start_time": "2021-06-15T15:51:03.858Z"
   },
   {
    "duration": 6,
    "start_time": "2021-06-15T15:51:04.347Z"
   },
   {
    "duration": 427,
    "start_time": "2021-06-15T15:51:04.923Z"
   },
   {
    "duration": 6,
    "start_time": "2021-06-15T15:51:05.753Z"
   },
   {
    "duration": 6,
    "start_time": "2021-06-15T15:51:06.409Z"
   },
   {
    "duration": 5,
    "start_time": "2021-06-15T15:51:07.691Z"
   },
   {
    "duration": 5,
    "start_time": "2021-06-15T15:51:08.718Z"
   },
   {
    "duration": 6,
    "start_time": "2021-06-15T15:51:12.995Z"
   },
   {
    "duration": 247,
    "start_time": "2021-06-15T15:51:29.248Z"
   },
   {
    "duration": 6,
    "start_time": "2021-06-15T15:51:30.051Z"
   },
   {
    "duration": 6,
    "start_time": "2021-06-15T15:51:30.581Z"
   },
   {
    "duration": 5,
    "start_time": "2021-06-15T15:51:32.986Z"
   },
   {
    "duration": 344,
    "start_time": "2021-06-15T15:51:46.383Z"
   },
   {
    "duration": 6,
    "start_time": "2021-06-15T15:51:47.059Z"
   },
   {
    "duration": 5,
    "start_time": "2021-06-15T15:51:47.587Z"
   },
   {
    "duration": 5,
    "start_time": "2021-06-15T15:51:48.869Z"
   },
   {
    "duration": 368,
    "start_time": "2021-06-15T15:51:55.025Z"
   },
   {
    "duration": 6,
    "start_time": "2021-06-15T15:51:55.654Z"
   },
   {
    "duration": 5,
    "start_time": "2021-06-15T15:51:56.120Z"
   },
   {
    "duration": 5,
    "start_time": "2021-06-15T15:52:01.222Z"
   },
   {
    "duration": 5533,
    "start_time": "2021-06-15T15:52:26.488Z"
   },
   {
    "duration": 5,
    "start_time": "2021-06-15T15:52:36.441Z"
   },
   {
    "duration": 5,
    "start_time": "2021-06-15T15:52:37.406Z"
   },
   {
    "duration": 5,
    "start_time": "2021-06-15T15:52:38.855Z"
   },
   {
    "duration": 4983,
    "start_time": "2021-06-15T15:52:45.413Z"
   },
   {
    "duration": 6,
    "start_time": "2021-06-15T15:52:50.398Z"
   },
   {
    "duration": 15,
    "start_time": "2021-06-15T15:52:50.406Z"
   },
   {
    "duration": 5,
    "start_time": "2021-06-15T15:52:51.790Z"
   },
   {
    "duration": 330,
    "start_time": "2021-06-16T16:03:42.579Z"
   },
   {
    "duration": 62,
    "start_time": "2021-06-16T16:03:42.912Z"
   },
   {
    "duration": 9,
    "start_time": "2021-06-16T16:03:44.299Z"
   },
   {
    "duration": 6,
    "start_time": "2021-06-16T16:03:52.550Z"
   },
   {
    "duration": 940,
    "start_time": "2021-06-16T16:03:54.446Z"
   },
   {
    "duration": 571,
    "start_time": "2021-06-16T16:03:55.389Z"
   },
   {
    "duration": 481,
    "start_time": "2021-06-16T16:04:34.210Z"
   },
   {
    "duration": 629,
    "start_time": "2021-06-16T16:04:45.344Z"
   },
   {
    "duration": 2281,
    "start_time": "2021-06-16T16:04:58.732Z"
   },
   {
    "duration": 22,
    "start_time": "2021-06-16T16:16:37.123Z"
   },
   {
    "duration": 51,
    "start_time": "2021-06-16T16:16:41.788Z"
   },
   {
    "duration": 8,
    "start_time": "2021-06-16T16:16:42.806Z"
   },
   {
    "duration": 7,
    "start_time": "2021-06-16T16:16:43.130Z"
   },
   {
    "duration": 880,
    "start_time": "2021-06-16T16:16:43.364Z"
   },
   {
    "duration": 480,
    "start_time": "2021-06-16T16:16:44.247Z"
   },
   {
    "duration": 2179,
    "start_time": "2021-06-16T16:16:44.730Z"
   },
   {
    "duration": 611,
    "start_time": "2021-06-16T16:16:46.913Z"
   },
   {
    "duration": 8,
    "start_time": "2021-06-16T16:16:47.526Z"
   },
   {
    "duration": 1665,
    "start_time": "2021-06-16T16:16:47.536Z"
   },
   {
    "duration": 6,
    "start_time": "2021-06-16T16:16:49.204Z"
   },
   {
    "duration": 32,
    "start_time": "2021-06-16T16:16:49.213Z"
   },
   {
    "duration": 77,
    "start_time": "2021-06-16T16:16:49.247Z"
   },
   {
    "duration": 333,
    "start_time": "2021-06-16T16:18:09.854Z"
   },
   {
    "duration": 9,
    "start_time": "2021-06-16T16:18:15.532Z"
   },
   {
    "duration": 4,
    "start_time": "2021-06-16T16:18:15.836Z"
   },
   {
    "duration": 5,
    "start_time": "2021-06-16T16:18:18.092Z"
   },
   {
    "duration": 8,
    "start_time": "2021-06-16T16:18:19.819Z"
   },
   {
    "duration": 4,
    "start_time": "2021-06-16T16:18:20.903Z"
   },
   {
    "duration": 7,
    "start_time": "2021-06-16T16:18:22.250Z"
   },
   {
    "duration": 16,
    "start_time": "2021-06-16T16:18:23.975Z"
   },
   {
    "duration": 5,
    "start_time": "2021-06-16T16:20:09.312Z"
   },
   {
    "duration": 5010,
    "start_time": "2021-06-16T16:20:18.201Z"
   },
   {
    "duration": 5,
    "start_time": "2021-06-16T16:20:23.214Z"
   },
   {
    "duration": 1223,
    "start_time": "2021-06-16T16:21:41.100Z"
   },
   {
    "duration": 6,
    "start_time": "2021-06-16T16:22:06.254Z"
   },
   {
    "duration": 6,
    "start_time": "2021-06-16T16:22:10.775Z"
   },
   {
    "duration": 5,
    "start_time": "2021-06-16T16:22:17.512Z"
   },
   {
    "duration": 14,
    "start_time": "2021-06-16T16:34:59.574Z"
   },
   {
    "duration": 57,
    "start_time": "2021-06-16T16:35:00.565Z"
   },
   {
    "duration": 7,
    "start_time": "2021-06-16T16:35:12.567Z"
   },
   {
    "duration": 5,
    "start_time": "2021-06-16T16:35:13.037Z"
   },
   {
    "duration": 3,
    "start_time": "2021-06-16T16:35:13.648Z"
   },
   {
    "duration": 3,
    "start_time": "2021-06-16T16:35:13.957Z"
   },
   {
    "duration": 7,
    "start_time": "2021-06-16T16:35:14.234Z"
   },
   {
    "duration": 8,
    "start_time": "2021-06-16T16:35:14.795Z"
   },
   {
    "duration": 4,
    "start_time": "2021-06-16T16:35:15.336Z"
   },
   {
    "duration": 7,
    "start_time": "2021-06-16T16:35:15.744Z"
   },
   {
    "duration": 17,
    "start_time": "2021-06-16T16:35:16.214Z"
   },
   {
    "duration": 6,
    "start_time": "2021-06-16T16:35:16.697Z"
   },
   {
    "duration": 4994,
    "start_time": "2021-06-16T16:35:17.151Z"
   },
   {
    "duration": 6,
    "start_time": "2021-06-16T16:35:22.148Z"
   },
   {
    "duration": 1263,
    "start_time": "2021-06-16T16:35:22.158Z"
   },
   {
    "duration": 5,
    "start_time": "2021-06-16T16:35:23.424Z"
   },
   {
    "duration": 6,
    "start_time": "2021-06-16T16:35:24.258Z"
   },
   {
    "duration": 5,
    "start_time": "2021-06-16T16:35:25.344Z"
   },
   {
    "duration": 6,
    "start_time": "2021-06-16T16:35:30.163Z"
   },
   {
    "duration": 5,
    "start_time": "2021-06-16T16:35:30.873Z"
   },
   {
    "duration": 6,
    "start_time": "2021-06-16T16:35:31.551Z"
   },
   {
    "duration": 3,
    "start_time": "2021-06-16T16:35:32.668Z"
   },
   {
    "duration": 6,
    "start_time": "2021-06-16T16:35:33.240Z"
   },
   {
    "duration": 59,
    "start_time": "2021-06-16T16:48:08.856Z"
   },
   {
    "duration": 6,
    "start_time": "2021-06-16T16:52:19.071Z"
   },
   {
    "duration": 12,
    "start_time": "2021-06-16T16:52:20.169Z"
   },
   {
    "duration": 59,
    "start_time": "2021-06-16T16:52:21.277Z"
   },
   {
    "duration": 8,
    "start_time": "2021-06-16T16:59:43.137Z"
   },
   {
    "duration": 6,
    "start_time": "2021-06-16T16:59:43.282Z"
   },
   {
    "duration": 3,
    "start_time": "2021-06-16T16:59:43.440Z"
   },
   {
    "duration": 3,
    "start_time": "2021-06-16T16:59:43.598Z"
   },
   {
    "duration": 6,
    "start_time": "2021-06-16T16:59:43.760Z"
   },
   {
    "duration": 9,
    "start_time": "2021-06-16T16:59:43.934Z"
   },
   {
    "duration": 4,
    "start_time": "2021-06-16T16:59:44.109Z"
   },
   {
    "duration": 7,
    "start_time": "2021-06-16T16:59:44.471Z"
   },
   {
    "duration": 12,
    "start_time": "2021-06-16T16:59:44.835Z"
   },
   {
    "duration": 6,
    "start_time": "2021-06-16T16:59:45.241Z"
   },
   {
    "duration": 5042,
    "start_time": "2021-06-16T16:59:45.799Z"
   },
   {
    "duration": 8,
    "start_time": "2021-06-16T16:59:50.844Z"
   },
   {
    "duration": 1277,
    "start_time": "2021-06-16T16:59:50.855Z"
   },
   {
    "duration": 5,
    "start_time": "2021-06-16T16:59:52.669Z"
   },
   {
    "duration": 5,
    "start_time": "2021-06-16T16:59:53.307Z"
   },
   {
    "duration": 4,
    "start_time": "2021-06-16T16:59:54.009Z"
   },
   {
    "duration": 5,
    "start_time": "2021-06-16T16:59:54.705Z"
   },
   {
    "duration": 5,
    "start_time": "2021-06-16T16:59:56.247Z"
   },
   {
    "duration": 5,
    "start_time": "2021-06-16T16:59:56.799Z"
   },
   {
    "duration": 3,
    "start_time": "2021-06-16T16:59:57.579Z"
   },
   {
    "duration": 5,
    "start_time": "2021-06-16T16:59:58.069Z"
   },
   {
    "duration": 6,
    "start_time": "2021-06-16T17:00:19.281Z"
   },
   {
    "duration": 13,
    "start_time": "2021-06-16T17:00:20.362Z"
   },
   {
    "duration": 87,
    "start_time": "2021-06-16T17:00:21.063Z"
   },
   {
    "duration": 1529,
    "start_time": "2021-06-16T17:01:08.055Z"
   },
   {
    "duration": 58,
    "start_time": "2021-06-16T17:01:09.587Z"
   },
   {
    "duration": 10,
    "start_time": "2021-06-16T17:01:09.649Z"
   },
   {
    "duration": 6,
    "start_time": "2021-06-16T17:01:09.663Z"
   },
   {
    "duration": 949,
    "start_time": "2021-06-16T17:01:09.672Z"
   },
   {
    "duration": 556,
    "start_time": "2021-06-16T17:01:10.623Z"
   },
   {
    "duration": 1736,
    "start_time": "2021-06-16T17:01:11.182Z"
   },
   {
    "duration": 500,
    "start_time": "2021-06-16T17:01:13.108Z"
   },
   {
    "duration": 7,
    "start_time": "2021-06-16T17:01:13.611Z"
   },
   {
    "duration": 1460,
    "start_time": "2021-06-16T17:01:13.620Z"
   },
   {
    "duration": 6,
    "start_time": "2021-06-16T17:01:15.082Z"
   },
   {
    "duration": 32,
    "start_time": "2021-06-16T17:01:18.774Z"
   },
   {
    "duration": 44,
    "start_time": "2021-06-16T17:01:19.309Z"
   },
   {
    "duration": 8,
    "start_time": "2021-06-16T17:01:29.250Z"
   },
   {
    "duration": 4,
    "start_time": "2021-06-16T17:01:30.195Z"
   },
   {
    "duration": 3,
    "start_time": "2021-06-16T17:01:30.687Z"
   },
   {
    "duration": 3,
    "start_time": "2021-06-16T17:01:34.407Z"
   },
   {
    "duration": 6,
    "start_time": "2021-06-16T17:01:34.923Z"
   },
   {
    "duration": 8,
    "start_time": "2021-06-16T17:01:39.148Z"
   },
   {
    "duration": 4,
    "start_time": "2021-06-16T17:01:39.947Z"
   },
   {
    "duration": 6,
    "start_time": "2021-06-16T17:01:40.460Z"
   },
   {
    "duration": 109,
    "start_time": "2021-06-16T17:01:41.010Z"
   },
   {
    "duration": 5,
    "start_time": "2021-06-16T17:01:41.732Z"
   },
   {
    "duration": 8007,
    "start_time": "2021-06-16T17:01:42.126Z"
   },
   {
    "duration": 6,
    "start_time": "2021-06-16T17:01:50.135Z"
   },
   {
    "duration": 1565,
    "start_time": "2021-06-16T17:01:50.144Z"
   },
   {
    "duration": 6,
    "start_time": "2021-06-16T17:01:52.927Z"
   },
   {
    "duration": 6,
    "start_time": "2021-06-16T17:01:53.524Z"
   },
   {
    "duration": 6,
    "start_time": "2021-06-16T17:01:54.273Z"
   },
   {
    "duration": 6,
    "start_time": "2021-06-16T17:01:55.008Z"
   },
   {
    "duration": 5,
    "start_time": "2021-06-16T17:01:55.733Z"
   },
   {
    "duration": 6,
    "start_time": "2021-06-16T17:01:56.400Z"
   },
   {
    "duration": 3,
    "start_time": "2021-06-16T17:01:58.759Z"
   },
   {
    "duration": 5,
    "start_time": "2021-06-16T17:01:59.113Z"
   },
   {
    "duration": 1579,
    "start_time": "2021-06-17T04:59:52.409Z"
   },
   {
    "duration": 60,
    "start_time": "2021-06-17T04:59:53.991Z"
   },
   {
    "duration": 12,
    "start_time": "2021-06-17T04:59:54.054Z"
   },
   {
    "duration": 6,
    "start_time": "2021-06-17T04:59:54.366Z"
   },
   {
    "duration": 902,
    "start_time": "2021-06-17T04:59:55.022Z"
   },
   {
    "duration": 528,
    "start_time": "2021-06-17T04:59:55.927Z"
   },
   {
    "duration": 2486,
    "start_time": "2021-06-17T04:59:56.526Z"
   },
   {
    "duration": 583,
    "start_time": "2021-06-17T04:59:59.016Z"
   },
   {
    "duration": 9,
    "start_time": "2021-06-17T04:59:59.806Z"
   },
   {
    "duration": 1525,
    "start_time": "2021-06-17T05:00:00.399Z"
   },
   {
    "duration": 7,
    "start_time": "2021-06-17T05:00:01.927Z"
   },
   {
    "duration": 34,
    "start_time": "2021-06-17T05:00:08.712Z"
   },
   {
    "duration": 40,
    "start_time": "2021-06-17T05:00:14.402Z"
   },
   {
    "duration": 6,
    "start_time": "2021-06-17T05:00:28.135Z"
   },
   {
    "duration": 25,
    "start_time": "2021-06-17T05:00:28.608Z"
   },
   {
    "duration": 41,
    "start_time": "2021-06-17T05:00:29.160Z"
   },
   {
    "duration": 1550,
    "start_time": "2021-06-17T05:00:43.128Z"
   },
   {
    "duration": 55,
    "start_time": "2021-06-17T05:00:44.680Z"
   },
   {
    "duration": 8,
    "start_time": "2021-06-17T05:00:44.737Z"
   },
   {
    "duration": 5,
    "start_time": "2021-06-17T05:00:44.748Z"
   },
   {
    "duration": 933,
    "start_time": "2021-06-17T05:00:44.755Z"
   },
   {
    "duration": 550,
    "start_time": "2021-06-17T05:00:45.690Z"
   },
   {
    "duration": 2067,
    "start_time": "2021-06-17T05:00:46.243Z"
   },
   {
    "duration": 592,
    "start_time": "2021-06-17T05:00:48.316Z"
   },
   {
    "duration": 8,
    "start_time": "2021-06-17T05:00:48.911Z"
   },
   {
    "duration": 1616,
    "start_time": "2021-06-17T05:00:48.922Z"
   },
   {
    "duration": 5,
    "start_time": "2021-06-17T05:00:50.540Z"
   },
   {
    "duration": 47,
    "start_time": "2021-06-17T05:00:50.547Z"
   },
   {
    "duration": 47,
    "start_time": "2021-06-17T05:00:50.597Z"
   },
   {
    "duration": 14,
    "start_time": "2021-06-17T05:00:57.592Z"
   },
   {
    "duration": 5,
    "start_time": "2021-06-17T05:00:58.216Z"
   },
   {
    "duration": 6,
    "start_time": "2021-06-17T05:01:00.703Z"
   },
   {
    "duration": 8,
    "start_time": "2021-06-17T05:01:01.703Z"
   },
   {
    "duration": 4,
    "start_time": "2021-06-17T05:01:02.336Z"
   },
   {
    "duration": 6,
    "start_time": "2021-06-17T05:01:15.944Z"
   },
   {
    "duration": 27,
    "start_time": "2021-06-17T05:01:18.787Z"
   },
   {
    "duration": 5,
    "start_time": "2021-06-17T05:01:32.089Z"
   },
   {
    "duration": 9833,
    "start_time": "2021-06-17T05:01:32.687Z"
   },
   {
    "duration": 5,
    "start_time": "2021-06-17T05:01:42.522Z"
   },
   {
    "duration": 1693,
    "start_time": "2021-06-17T05:01:42.530Z"
   },
   {
    "duration": 5,
    "start_time": "2021-06-17T05:01:44.225Z"
   },
   {
    "duration": 8,
    "start_time": "2021-06-17T05:01:44.232Z"
   },
   {
    "duration": 73,
    "start_time": "2021-06-17T05:01:44.242Z"
   },
   {
    "duration": 6,
    "start_time": "2021-06-17T05:01:44.317Z"
   },
   {
    "duration": 5,
    "start_time": "2021-06-17T05:01:48.489Z"
   },
   {
    "duration": 5,
    "start_time": "2021-06-17T05:01:51.576Z"
   },
   {
    "duration": 5,
    "start_time": "2021-06-17T05:01:54.560Z"
   },
   {
    "duration": 1549,
    "start_time": "2021-06-19T15:25:15.376Z"
   },
   {
    "duration": 726,
    "start_time": "2021-06-19T15:39:04.360Z"
   },
   {
    "duration": 309,
    "start_time": "2021-06-19T15:39:14.670Z"
   },
   {
    "duration": 5,
    "start_time": "2021-06-19T15:39:23.153Z"
   },
   {
    "duration": 54,
    "start_time": "2021-06-19T15:39:24.317Z"
   },
   {
    "duration": 10,
    "start_time": "2021-06-19T15:39:25.449Z"
   },
   {
    "duration": 6,
    "start_time": "2021-06-19T15:39:29.169Z"
   },
   {
    "duration": 1236,
    "start_time": "2021-06-19T15:39:30.639Z"
   },
   {
    "duration": 891,
    "start_time": "2021-06-19T15:40:19.973Z"
   },
   {
    "duration": 900,
    "start_time": "2021-06-19T15:41:37.732Z"
   },
   {
    "duration": 638,
    "start_time": "2021-06-19T15:42:41.628Z"
   },
   {
    "duration": 466,
    "start_time": "2021-06-19T15:43:04.408Z"
   },
   {
    "duration": 2660,
    "start_time": "2021-06-19T16:01:43.501Z"
   },
   {
    "duration": 1462,
    "start_time": "2021-06-19T16:05:38.957Z"
   },
   {
    "duration": 359,
    "start_time": "2021-06-19T16:12:39.020Z"
   },
   {
    "duration": 627,
    "start_time": "2021-06-19T16:12:51.583Z"
   },
   {
    "duration": 431,
    "start_time": "2021-06-19T16:13:02.798Z"
   },
   {
    "duration": 382,
    "start_time": "2021-06-19T16:13:41.392Z"
   },
   {
    "duration": 438,
    "start_time": "2021-06-19T16:14:09.105Z"
   },
   {
    "duration": 281,
    "start_time": "2021-06-19T16:14:27.709Z"
   },
   {
    "duration": 7,
    "start_time": "2021-06-19T16:25:15.934Z"
   },
   {
    "duration": 583,
    "start_time": "2021-06-19T16:25:17.839Z"
   },
   {
    "duration": 13,
    "start_time": "2021-06-19T16:25:18.508Z"
   },
   {
    "duration": 6,
    "start_time": "2021-06-19T16:25:30.266Z"
   },
   {
    "duration": 687,
    "start_time": "2021-06-19T16:25:31.308Z"
   },
   {
    "duration": 9,
    "start_time": "2021-06-19T16:25:45.736Z"
   },
   {
    "duration": 37,
    "start_time": "2021-06-19T16:25:46.593Z"
   },
   {
    "duration": 38,
    "start_time": "2021-06-19T16:25:48.961Z"
   },
   {
    "duration": 7,
    "start_time": "2021-06-19T16:26:25.875Z"
   },
   {
    "duration": 5,
    "start_time": "2021-06-19T16:26:31.745Z"
   },
   {
    "duration": 10,
    "start_time": "2021-06-19T16:26:47.367Z"
   },
   {
    "duration": 5,
    "start_time": "2021-06-19T16:26:48.204Z"
   },
   {
    "duration": 5,
    "start_time": "2021-06-19T16:27:03.583Z"
   },
   {
    "duration": 10,
    "start_time": "2021-06-19T16:27:04.942Z"
   },
   {
    "duration": 3,
    "start_time": "2021-06-19T16:27:06.956Z"
   },
   {
    "duration": 9,
    "start_time": "2021-06-19T16:27:07.928Z"
   },
   {
    "duration": 84,
    "start_time": "2021-06-19T16:27:09.284Z"
   },
   {
    "duration": 7,
    "start_time": "2021-06-19T16:27:11.033Z"
   },
   {
    "duration": 14469,
    "start_time": "2021-06-19T16:27:12.196Z"
   },
   {
    "duration": 7,
    "start_time": "2021-06-19T16:27:26.668Z"
   },
   {
    "duration": 152395,
    "start_time": "2021-06-19T16:27:31.586Z"
   },
   {
    "duration": 5,
    "start_time": "2021-06-19T16:30:04.063Z"
   },
   {
    "duration": 16,
    "start_time": "2021-06-19T16:30:04.071Z"
   },
   {
    "duration": 9,
    "start_time": "2021-06-19T16:30:04.090Z"
   },
   {
    "duration": 5,
    "start_time": "2021-06-19T16:30:20.376Z"
   },
   {
    "duration": 5,
    "start_time": "2021-06-19T16:30:21.206Z"
   },
   {
    "duration": 5,
    "start_time": "2021-06-19T16:30:22.129Z"
   },
   {
    "duration": 3,
    "start_time": "2021-06-19T16:30:23.024Z"
   },
   {
    "duration": 5,
    "start_time": "2021-06-19T16:30:23.820Z"
   },
   {
    "duration": 555,
    "start_time": "2021-06-19T16:30:58.585Z"
   },
   {
    "duration": 677,
    "start_time": "2021-06-19T16:31:20.236Z"
   },
   {
    "duration": 11,
    "start_time": "2021-06-19T16:31:34.233Z"
   },
   {
    "duration": 297,
    "start_time": "2021-06-19T16:31:59.920Z"
   },
   {
    "duration": 7,
    "start_time": "2021-06-19T16:32:33.914Z"
   },
   {
    "duration": 9,
    "start_time": "2021-06-19T16:33:20.782Z"
   },
   {
    "duration": 415,
    "start_time": "2021-06-19T16:33:26.287Z"
   },
   {
    "duration": 404,
    "start_time": "2021-06-19T16:33:44.770Z"
   },
   {
    "duration": 47,
    "start_time": "2021-06-19T16:38:43.026Z"
   },
   {
    "duration": 6,
    "start_time": "2021-06-19T16:45:07.539Z"
   },
   {
    "duration": 667,
    "start_time": "2021-06-19T16:45:10.238Z"
   },
   {
    "duration": 6,
    "start_time": "2021-06-19T16:45:19.505Z"
   },
   {
    "duration": 21,
    "start_time": "2021-06-19T16:45:20.593Z"
   },
   {
    "duration": 32,
    "start_time": "2021-06-19T16:45:21.362Z"
   },
   {
    "duration": 7,
    "start_time": "2021-06-19T16:45:36.653Z"
   },
   {
    "duration": 628,
    "start_time": "2021-06-19T16:45:37.794Z"
   },
   {
    "duration": 6,
    "start_time": "2021-06-19T16:45:51.973Z"
   },
   {
    "duration": 21,
    "start_time": "2021-06-19T16:45:52.874Z"
   },
   {
    "duration": 31,
    "start_time": "2021-06-19T16:45:53.687Z"
   },
   {
    "duration": 5,
    "start_time": "2021-06-19T16:49:13.936Z"
   },
   {
    "duration": 6,
    "start_time": "2021-06-19T16:49:39.131Z"
   },
   {
    "duration": 22,
    "start_time": "2021-06-19T16:50:37.568Z"
   },
   {
    "duration": 42,
    "start_time": "2021-06-19T16:50:40.038Z"
   },
   {
    "duration": 7,
    "start_time": "2021-06-19T16:54:16.392Z"
   },
   {
    "duration": 4,
    "start_time": "2021-06-19T16:59:02.356Z"
   },
   {
    "duration": 15,
    "start_time": "2021-06-19T16:59:18.184Z"
   },
   {
    "duration": 61,
    "start_time": "2021-06-19T17:00:13.211Z"
   },
   {
    "duration": 17,
    "start_time": "2021-06-19T17:00:37.561Z"
   },
   {
    "duration": 7,
    "start_time": "2021-06-19T17:00:42.306Z"
   },
   {
    "duration": 290,
    "start_time": "2021-06-19T17:00:51.430Z"
   },
   {
    "duration": 6,
    "start_time": "2021-06-19T17:00:54.751Z"
   },
   {
    "duration": 6,
    "start_time": "2021-06-19T17:01:00.545Z"
   },
   {
    "duration": 5,
    "start_time": "2021-06-19T17:02:00.685Z"
   },
   {
    "duration": 15,
    "start_time": "2021-06-19T17:09:57.183Z"
   },
   {
    "duration": 5,
    "start_time": "2021-06-19T17:11:50.719Z"
   },
   {
    "duration": 9,
    "start_time": "2021-06-19T17:12:13.634Z"
   },
   {
    "duration": 5,
    "start_time": "2021-06-19T17:22:58.174Z"
   },
   {
    "duration": 658,
    "start_time": "2021-06-19T17:23:06.658Z"
   },
   {
    "duration": 5,
    "start_time": "2021-06-19T17:26:27.685Z"
   },
   {
    "duration": 5,
    "start_time": "2021-06-19T17:28:07.073Z"
   },
   {
    "duration": 1070,
    "start_time": "2021-06-19T17:28:19.436Z"
   },
   {
    "duration": 4,
    "start_time": "2021-06-19T17:29:46.401Z"
   },
   {
    "duration": 6,
    "start_time": "2021-06-19T17:29:49.027Z"
   },
   {
    "duration": 12535,
    "start_time": "2021-06-19T17:29:49.907Z"
   },
   {
    "duration": 5,
    "start_time": "2021-06-19T17:30:18.921Z"
   },
   {
    "duration": 779,
    "start_time": "2021-06-19T17:30:20.194Z"
   },
   {
    "duration": 507,
    "start_time": "2021-06-19T17:30:37.683Z"
   },
   {
    "duration": 6,
    "start_time": "2021-06-19T17:30:49.402Z"
   },
   {
    "duration": 15784,
    "start_time": "2021-06-19T17:30:49.927Z"
   },
   {
    "duration": 6,
    "start_time": "2021-06-19T17:31:30.113Z"
   },
   {
    "duration": 12533,
    "start_time": "2021-06-19T17:31:30.744Z"
   },
   {
    "duration": 5,
    "start_time": "2021-06-19T17:32:01.736Z"
   },
   {
    "duration": 12292,
    "start_time": "2021-06-19T17:32:02.402Z"
   },
   {
    "duration": 5,
    "start_time": "2021-06-19T17:32:37.823Z"
   },
   {
    "duration": 11699,
    "start_time": "2021-06-19T17:32:38.488Z"
   },
   {
    "duration": 676,
    "start_time": "2021-06-19T17:33:35.712Z"
   },
   {
    "duration": 542,
    "start_time": "2021-06-19T17:33:42.010Z"
   },
   {
    "duration": 5,
    "start_time": "2021-06-19T17:33:49.479Z"
   },
   {
    "duration": 11744,
    "start_time": "2021-06-19T17:33:50.217Z"
   },
   {
    "duration": 6,
    "start_time": "2021-06-19T17:34:49.735Z"
   },
   {
    "duration": 6,
    "start_time": "2021-06-19T17:35:05.636Z"
   },
   {
    "duration": 10807,
    "start_time": "2021-06-19T17:35:07.443Z"
   },
   {
    "duration": 4,
    "start_time": "2021-06-19T17:39:27.217Z"
   },
   {
    "duration": 8,
    "start_time": "2021-06-19T17:42:58.037Z"
   },
   {
    "duration": 600,
    "start_time": "2021-06-19T17:43:52.712Z"
   },
   {
    "duration": 6,
    "start_time": "2021-06-19T17:46:17.553Z"
   },
   {
    "duration": 690,
    "start_time": "2021-06-19T17:46:18.072Z"
   },
   {
    "duration": 1533,
    "start_time": "2021-06-20T05:03:08.108Z"
   },
   {
    "duration": 59,
    "start_time": "2021-06-20T05:03:09.643Z"
   },
   {
    "duration": 9,
    "start_time": "2021-06-20T05:03:09.705Z"
   },
   {
    "duration": 6,
    "start_time": "2021-06-20T05:03:14.490Z"
   },
   {
    "duration": 930,
    "start_time": "2021-06-20T05:03:15.208Z"
   },
   {
    "duration": 561,
    "start_time": "2021-06-20T05:03:16.141Z"
   },
   {
    "duration": 2181,
    "start_time": "2021-06-20T05:03:17.281Z"
   },
   {
    "duration": 1567,
    "start_time": "2021-06-20T05:03:19.466Z"
   },
   {
    "duration": 6,
    "start_time": "2021-06-20T05:03:21.036Z"
   },
   {
    "duration": 42,
    "start_time": "2021-06-20T05:03:21.878Z"
   },
   {
    "duration": 31,
    "start_time": "2021-06-20T05:03:22.474Z"
   },
   {
    "duration": 10,
    "start_time": "2021-06-20T05:03:27.220Z"
   },
   {
    "duration": 4,
    "start_time": "2021-06-20T05:03:27.597Z"
   },
   {
    "duration": 6,
    "start_time": "2021-06-20T05:03:29.147Z"
   },
   {
    "duration": 8,
    "start_time": "2021-06-20T05:03:30.526Z"
   },
   {
    "duration": 4,
    "start_time": "2021-06-20T05:03:37.726Z"
   },
   {
    "duration": 7,
    "start_time": "2021-06-20T05:03:39.012Z"
   },
   {
    "duration": 4,
    "start_time": "2021-06-20T05:03:41.212Z"
   },
   {
    "duration": 8,
    "start_time": "2021-06-20T05:04:36.226Z"
   },
   {
    "duration": 889,
    "start_time": "2021-06-20T05:04:38.043Z"
   },
   {
    "duration": 5,
    "start_time": "2021-06-20T05:04:48.239Z"
   },
   {
    "duration": 7,
    "start_time": "2021-06-20T05:04:50.999Z"
   },
   {
    "duration": 1058,
    "start_time": "2021-06-20T05:04:51.457Z"
   },
   {
    "duration": 8,
    "start_time": "2021-06-20T05:07:06.705Z"
   },
   {
    "duration": 1110,
    "start_time": "2021-06-20T05:07:07.881Z"
   },
   {
    "duration": 8,
    "start_time": "2021-06-20T05:08:42.281Z"
   },
   {
    "duration": 1076,
    "start_time": "2021-06-20T05:08:42.763Z"
   },
   {
    "duration": 8,
    "start_time": "2021-06-20T05:09:21.585Z"
   },
   {
    "duration": 1138,
    "start_time": "2021-06-20T05:09:22.579Z"
   },
   {
    "duration": 8,
    "start_time": "2021-06-20T05:09:33.894Z"
   },
   {
    "duration": 1451,
    "start_time": "2021-06-20T05:09:34.394Z"
   },
   {
    "duration": 8,
    "start_time": "2021-06-20T05:09:59.051Z"
   },
   {
    "duration": 1930,
    "start_time": "2021-06-20T05:09:59.468Z"
   },
   {
    "duration": 8,
    "start_time": "2021-06-20T05:10:08.982Z"
   },
   {
    "duration": 780,
    "start_time": "2021-06-20T05:10:09.407Z"
   },
   {
    "duration": 12,
    "start_time": "2021-06-20T05:10:16.862Z"
   },
   {
    "duration": 1103,
    "start_time": "2021-06-20T05:10:17.313Z"
   },
   {
    "duration": 8,
    "start_time": "2021-06-20T05:11:24.013Z"
   },
   {
    "duration": 1247,
    "start_time": "2021-06-20T05:11:24.496Z"
   },
   {
    "duration": 7,
    "start_time": "2021-06-20T05:11:43.873Z"
   },
   {
    "duration": 1403,
    "start_time": "2021-06-20T05:11:44.344Z"
   },
   {
    "duration": 8,
    "start_time": "2021-06-20T05:12:28.653Z"
   },
   {
    "duration": 1428,
    "start_time": "2021-06-20T05:12:29.127Z"
   },
   {
    "duration": 9,
    "start_time": "2021-06-20T05:13:06.950Z"
   },
   {
    "duration": 1438,
    "start_time": "2021-06-20T05:13:07.724Z"
   },
   {
    "duration": 9,
    "start_time": "2021-06-20T05:18:17.199Z"
   },
   {
    "duration": 1437,
    "start_time": "2021-06-20T05:18:17.749Z"
   },
   {
    "duration": 9,
    "start_time": "2021-06-20T05:18:35.082Z"
   },
   {
    "duration": 1221,
    "start_time": "2021-06-20T05:18:35.585Z"
   },
   {
    "duration": 9,
    "start_time": "2021-06-20T05:18:55.884Z"
   },
   {
    "duration": 7930,
    "start_time": "2021-06-20T05:18:56.474Z"
   },
   {
    "duration": 13,
    "start_time": "2021-06-20T05:20:31.906Z"
   },
   {
    "duration": 1462,
    "start_time": "2021-06-20T05:20:32.356Z"
   },
   {
    "duration": 9,
    "start_time": "2021-06-20T05:22:09.466Z"
   },
   {
    "duration": 1411,
    "start_time": "2021-06-20T05:22:09.885Z"
   },
   {
    "duration": 9,
    "start_time": "2021-06-20T05:22:16.797Z"
   },
   {
    "duration": 1360,
    "start_time": "2021-06-20T05:22:17.115Z"
   },
   {
    "duration": 9,
    "start_time": "2021-06-20T05:22:29.913Z"
   },
   {
    "duration": 1317,
    "start_time": "2021-06-20T05:22:30.361Z"
   },
   {
    "duration": 9,
    "start_time": "2021-06-20T05:22:36.936Z"
   },
   {
    "duration": 1615,
    "start_time": "2021-06-20T05:22:37.257Z"
   },
   {
    "duration": 8,
    "start_time": "2021-06-20T05:24:56.663Z"
   },
   {
    "duration": 1327,
    "start_time": "2021-06-20T05:24:57.034Z"
   },
   {
    "duration": 9,
    "start_time": "2021-06-20T05:25:18.989Z"
   },
   {
    "duration": 1465,
    "start_time": "2021-06-20T05:25:19.417Z"
   },
   {
    "duration": 10,
    "start_time": "2021-06-20T05:25:35.755Z"
   },
   {
    "duration": 1419,
    "start_time": "2021-06-20T05:25:36.177Z"
   },
   {
    "duration": 10,
    "start_time": "2021-06-20T05:25:57.394Z"
   },
   {
    "duration": 2112,
    "start_time": "2021-06-20T05:25:57.802Z"
   },
   {
    "duration": 10,
    "start_time": "2021-06-20T05:26:48.037Z"
   },
   {
    "duration": 1914,
    "start_time": "2021-06-20T05:26:48.511Z"
   },
   {
    "duration": 10,
    "start_time": "2021-06-20T05:27:01.987Z"
   },
   {
    "duration": 1372,
    "start_time": "2021-06-20T05:27:02.390Z"
   },
   {
    "duration": 9,
    "start_time": "2021-06-20T05:27:19.727Z"
   },
   {
    "duration": 1440,
    "start_time": "2021-06-20T05:27:19.971Z"
   },
   {
    "duration": 10,
    "start_time": "2021-06-20T05:27:38.212Z"
   },
   {
    "duration": 1446,
    "start_time": "2021-06-20T05:27:38.620Z"
   },
   {
    "duration": 1603,
    "start_time": "2021-06-20T05:30:55.588Z"
   },
   {
    "duration": 10845,
    "start_time": "2021-06-20T05:31:24.737Z"
   },
   {
    "duration": 2988,
    "start_time": "2021-06-20T05:32:45.387Z"
   },
   {
    "duration": 6,
    "start_time": "2021-06-20T05:37:03.584Z"
   },
   {
    "duration": 412,
    "start_time": "2021-06-20T05:37:20.059Z"
   },
   {
    "duration": 19,
    "start_time": "2021-06-20T05:37:28.155Z"
   },
   {
    "duration": 4,
    "start_time": "2021-06-20T05:38:57.510Z"
   },
   {
    "duration": 21,
    "start_time": "2021-06-20T05:39:13.734Z"
   },
   {
    "duration": 5,
    "start_time": "2021-06-20T05:42:14.300Z"
   },
   {
    "duration": 10,
    "start_time": "2021-06-20T05:42:15.750Z"
   },
   {
    "duration": 1402,
    "start_time": "2021-06-20T05:42:21.173Z"
   },
   {
    "duration": 11203,
    "start_time": "2021-06-20T05:42:22.676Z"
   },
   {
    "duration": 3088,
    "start_time": "2021-06-20T05:42:33.882Z"
   },
   {
    "duration": 12,
    "start_time": "2021-06-20T05:42:36.973Z"
   },
   {
    "duration": 4,
    "start_time": "2021-06-20T05:44:17.243Z"
   },
   {
    "duration": 4,
    "start_time": "2021-06-20T05:44:17.960Z"
   },
   {
    "duration": 9,
    "start_time": "2021-06-20T05:44:18.483Z"
   },
   {
    "duration": 1411,
    "start_time": "2021-06-20T05:44:19.554Z"
   },
   {
    "duration": 11164,
    "start_time": "2021-06-20T05:44:20.967Z"
   },
   {
    "duration": 3162,
    "start_time": "2021-06-20T05:44:32.134Z"
   },
   {
    "duration": 4,
    "start_time": "2021-06-20T05:45:07.293Z"
   },
   {
    "duration": 4,
    "start_time": "2021-06-20T05:45:07.681Z"
   },
   {
    "duration": 3129,
    "start_time": "2021-06-20T05:45:13.355Z"
   },
   {
    "duration": 5,
    "start_time": "2021-06-20T05:46:03.702Z"
   },
   {
    "duration": 4562,
    "start_time": "2021-06-20T05:46:07.448Z"
   },
   {
    "duration": 6,
    "start_time": "2021-06-20T05:46:37.566Z"
   },
   {
    "duration": 4849,
    "start_time": "2021-06-20T05:46:42.133Z"
   },
   {
    "duration": 13,
    "start_time": "2021-06-20T05:47:14.768Z"
   },
   {
    "duration": 5,
    "start_time": "2021-06-20T05:49:08.224Z"
   },
   {
    "duration": 5282,
    "start_time": "2021-06-20T05:49:12.405Z"
   },
   {
    "duration": 5,
    "start_time": "2021-06-20T05:49:32.491Z"
   },
   {
    "duration": 4664,
    "start_time": "2021-06-20T05:49:37.376Z"
   },
   {
    "duration": 13,
    "start_time": "2021-06-20T05:49:58.355Z"
   }
  ],
  "kernelspec": {
   "display_name": "Python 3",
   "language": "python",
   "name": "python3"
  },
  "language_info": {
   "codemirror_mode": {
    "name": "ipython",
    "version": 3
   },
   "file_extension": ".py",
   "mimetype": "text/x-python",
   "name": "python",
   "nbconvert_exporter": "python",
   "pygments_lexer": "ipython3",
   "version": "3.8.10"
  },
  "toc": {
   "base_numbering": 1,
   "nav_menu": {},
   "number_sections": true,
   "sideBar": true,
   "skip_h1_title": true,
   "title_cell": "Содержание",
   "title_sidebar": "Contents",
   "toc_cell": true,
   "toc_position": {
    "height": "calc(100% - 180px)",
    "left": "10px",
    "top": "150px",
    "width": "261.391px"
   },
   "toc_section_display": true,
   "toc_window_display": false
  }
 },
 "nbformat": 4,
 "nbformat_minor": 4
}
